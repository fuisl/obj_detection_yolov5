{
  "cells": [
    {
      "cell_type": "markdown",
      "metadata": {
        "id": "view-in-github",
        "colab_type": "text"
      },
      "source": [
        "<a href=\"https://colab.research.google.com/github/fuisl/obj_detection_yolov5/blob/master/fireExtinguisherDetection.ipynb\" target=\"_parent\"><img src=\"https://colab.research.google.com/assets/colab-badge.svg\" alt=\"Open In Colab\"/></a>"
      ]
    },
    {
      "cell_type": "markdown",
      "source": [
        "SETUP PROCESS"
      ],
      "metadata": {
        "id": "Y39uh2whCfDk"
      }
    },
    {
      "cell_type": "code",
      "execution_count": null,
      "metadata": {
        "id": "UpDS1Q4JCDBn"
      },
      "outputs": [],
      "source": [
        "!git clone https://github.com/ultralytics/yolov5.git"
      ]
    },
    {
      "cell_type": "code",
      "execution_count": null,
      "metadata": {
        "id": "XtS5kqmMCNd9"
      },
      "outputs": [],
      "source": [
        "!pip install -r requirements.txt -q"
      ]
    },
    {
      "cell_type": "code",
      "execution_count": null,
      "metadata": {
        "id": "e6Jb9zGfCd60"
      },
      "outputs": [],
      "source": [
        "!wget https://github.com/ultralytics/yolov5/releases/download/v6.2/yolov5s.pt"
      ]
    },
    {
      "cell_type": "markdown",
      "source": [
        "PREPARATION PROCESS"
      ],
      "metadata": {
        "id": "gLoEH2VgCGBT"
      }
    },
    {
      "cell_type": "code",
      "execution_count": null,
      "metadata": {
        "colab": {
          "base_uri": "https://localhost:8080/"
        },
        "id": "o9d2uU8wh-Z5",
        "outputId": "e9879d25-6a2d-47fd-abfd-c9838360c3ee"
      },
      "outputs": [
        {
          "output_type": "stream",
          "name": "stdout",
          "text": [
            "/content/drive/MyDrive/yolov5\n",
            "\u001b[K     |████████████████████████████████| 1.6 MB 44.9 MB/s \n",
            "\u001b[?25h"
          ]
        }
      ],
      "source": [
        "%cd /content/drive/MyDrive/yolov5\n",
        "\n",
        "!pip install -r requirements.txt -q"
      ]
    },
    {
      "cell_type": "markdown",
      "source": [
        "TRAINING PROCESS"
      ],
      "metadata": {
        "id": "iHphDynBCmOK"
      }
    },
    {
      "cell_type": "code",
      "execution_count": null,
      "metadata": {
        "id": "z6prJvO6DkQn"
      },
      "outputs": [],
      "source": [
        "import yaml\n",
        "\n",
        "dataset_info = {\n",
        "    'path': 'my_data',\n",
        "    'train': 'train/images',\n",
        "    'val': 'val/images',\n",
        "    'nc': 1,\n",
        "    'names': ['fire_extinguisher']\n",
        "}\n",
        "\n",
        "with open('data/my_data.yaml', 'w+') as f :\n",
        "  doc = yaml.dump(dataset_info,f,default_flow_style=None,sort_keys=False)"
      ]
    },
    {
      "cell_type": "code",
      "source": [
        "!python val.py --weights \"/content/drive/MyDrive/yolov5/runs/train/exp4/weights/best.pt\" --data \"/content/drive/MyDriv\" --img 640 --iou 0.65 --half"
      ],
      "metadata": {
        "id": "zPIZVQXZOERG"
      },
      "execution_count": null,
      "outputs": []
    },
    {
      "cell_type": "code",
      "execution_count": null,
      "metadata": {
        "id": "_9YzjxzRKL-R"
      },
      "outputs": [],
      "source": [
        "!python train.py --img 640 --batch 8 --epochs 50 --data my_data.yaml --weights yolov5s.pt --cache"
      ]
    },
    {
      "cell_type": "code",
      "source": [
        "!python detect.py --weights \"/content/drive/MyDrive/yolov5/runs/train/exp6/weights/best.pt\" --source \"/content/drive/MyDrive/yolov5/1665407745394.mp4\""
      ],
      "metadata": {
        "id": "mVI5Jjwb8l9t"
      },
      "execution_count": null,
      "outputs": []
    }
  ],
  "metadata": {
    "accelerator": "GPU",
    "colab": {
      "provenance": [],
      "mount_file_id": "1zPunCtIWv9CtB2__Sxf4ENz7RSQEUeu2",
      "authorship_tag": "ABX9TyPAM2/8bpEzazJoDhJnCmic",
      "include_colab_link": true
    },
    "gpuClass": "standard",
    "kernelspec": {
      "display_name": "Python 3",
      "name": "python3"
    },
    "language_info": {
      "name": "python"
    }
  },
  "nbformat": 4,
  "nbformat_minor": 0
}